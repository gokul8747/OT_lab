{
 "cells": [
  {
   "cell_type": "code",
   "execution_count": 1,
   "metadata": {},
   "outputs": [],
   "source": [
    "import copy\n",
    "from numpy.random import rand\n",
    "from numpy import asarray"
   ]
  },
  {
   "cell_type": "code",
   "execution_count": 2,
   "metadata": {},
   "outputs": [],
   "source": [
    "def fitness(x):\n",
    "    xi = 0\n",
    "    for i in range(len(x)):\n",
    "        xi += x[i]**2\n",
    "    return xi\n"
   ]
  },
  {
   "cell_type": "code",
   "execution_count": 3,
   "metadata": {},
   "outputs": [],
   "source": [
    "class Wolf:\n",
    "    def __init__(self,fitness,dims,nmax,nmin):\n",
    "        self.pos = asarray([(nmax-nmin)*rand()+nmin for _ in range(dims)])\n",
    "        self.fit_v = fitness(self.pos)"
   ]
  },
  {
   "cell_type": "code",
   "execution_count": 6,
   "metadata": {},
   "outputs": [],
   "source": [
    "def gw(n_iter,n,fitness,dims,nmax,nmin):\n",
    "    pop = [Wolf(fitness,dims,nmax,nmin) for _ in range(n)]\n",
    "    pop = sorted(pop,key=lambda temp:temp.fit_v)\n",
    "    alpha,beta,delta = copy.copy(pop[:3])\n",
    "\n",
    "    for iter in range(n_iter):\n",
    "        print(\">iteraion %d best_val %s best_score %f\"%(iter,alpha.pos,alpha.fit_v))\n",
    "        a = 2*(1-iter/n_iter)\n",
    "        for i in range(n):\n",
    "            c1 = 2*rand()\n",
    "            c2 = 2*rand()\n",
    "            c3 = 2*rand()\n",
    "            a1 = a*(c1-1)\n",
    "            a2 = a*(c2-1)\n",
    "            a3 = a*(c3-1)\n",
    "            x1 = alpha.pos.copy()\n",
    "            x2 = beta.pos.copy()\n",
    "            x3 = delta.pos.copy()\n",
    "            xnew = x1.copy()\n",
    "            for j in range(dims):\n",
    "                x1[j] = alpha.pos[j] - a1*abs(c1*alpha.pos[j] - pop[i].pos[j])\n",
    "                x2[j] = beta.pos[j] - a2*abs(c2*beta.pos[j] - pop[i].pos[j])\n",
    "                x3[j] = delta.pos[j] - a3*abs(c3*delta.pos[j] - pop[i].pos[j])\n",
    "                xnew[j] = x1[j]+x2[j]+x3[j]\n",
    "\n",
    "            for k in range(dims):\n",
    "                xnew[k] /= 3\n",
    "\n",
    "            fit_n = fitness(xnew)\n",
    "\n",
    "            if fit_n < pop[i].fit_v:\n",
    "                pop[i].pos = xnew.copy()\n",
    "                pop[i].fit_v = fit_n\n",
    "\n",
    "        pop = sorted(pop,key=lambda temp:temp.fit_v)\n",
    "        alpha,beta,delta = pop[:3]\n",
    "    "
   ]
  },
  {
   "cell_type": "code",
   "execution_count": 7,
   "metadata": {},
   "outputs": [
    {
     "name": "stdout",
     "output_type": "stream",
     "text": [
      ">iteraion 0 best_val [ 0.31365801 -0.32893252 -2.49230683] best_score 6.418171\n",
      ">iteraion 1 best_val [-0.08911604 -0.7548679  -1.22710255] best_score 2.083548\n",
      ">iteraion 2 best_val [ 0.14689881 -0.11548091  0.48546286] best_score 0.270589\n",
      ">iteraion 3 best_val [-0.03096595 -0.03586269  0.21508526] best_score 0.048507\n",
      ">iteraion 4 best_val [-0.01001535 -0.06625213  0.09926107] best_score 0.014342\n",
      ">iteraion 5 best_val [ 0.01894997 -0.03006229  0.03935798] best_score 0.002812\n",
      ">iteraion 6 best_val [ 0.00535026 -0.00921342  0.01400308] best_score 0.000310\n",
      ">iteraion 7 best_val [-0.00368554 -0.00719009  0.00355716] best_score 0.000078\n",
      ">iteraion 8 best_val [-0.00255546 -0.00445632  0.00515742] best_score 0.000053\n",
      ">iteraion 9 best_val [-0.00239826 -0.00265801  0.00506769] best_score 0.000038\n"
     ]
    }
   ],
   "source": [
    "gw(10,50,fitness,3,10,-10)"
   ]
  },
  {
   "cell_type": "code",
   "execution_count": null,
   "metadata": {},
   "outputs": [],
   "source": []
  },
  {
   "cell_type": "code",
   "execution_count": null,
   "metadata": {},
   "outputs": [],
   "source": []
  }
 ],
 "metadata": {
  "kernelspec": {
   "display_name": "base",
   "language": "python",
   "name": "python3"
  },
  "language_info": {
   "codemirror_mode": {
    "name": "ipython",
    "version": 3
   },
   "file_extension": ".py",
   "mimetype": "text/x-python",
   "name": "python",
   "nbconvert_exporter": "python",
   "pygments_lexer": "ipython3",
   "version": "3.11.4"
  }
 },
 "nbformat": 4,
 "nbformat_minor": 2
}
