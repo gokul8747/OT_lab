{
 "cells": [
  {
   "cell_type": "code",
   "execution_count": 17,
   "metadata": {},
   "outputs": [],
   "source": [
    "from numpy.random import rand\n",
    "from numpy import asarray"
   ]
  },
  {
   "cell_type": "code",
   "execution_count": 14,
   "metadata": {},
   "outputs": [],
   "source": [
    "w = 0.729\n",
    "c1 = 1.49445\n",
    "c2 = 1.49445"
   ]
  },
  {
   "cell_type": "code",
   "execution_count": 16,
   "metadata": {},
   "outputs": [],
   "source": [
    "def fitness(x):\n",
    "    x_fit = 0\n",
    "    for i in range(len(x)):\n",
    "        x_fit += x[i]**2\n",
    "    return x_fit"
   ]
  },
  {
   "cell_type": "code",
   "execution_count": 18,
   "metadata": {},
   "outputs": [],
   "source": [
    "class Particle:\n",
    "    def __init__(self,fitness,dims,nmax,nmin):\n",
    "        self.pos = asarray([(nmax-nmin)*rand()+nmin for _ in range(dims)])\n",
    "        self.velo = asarray([(nmax-nmin)*rand()+nmin for _ in range(dims)])\n",
    "        self.fit_val = fitness(self.pos)\n",
    "        self.part_best_pos = self.pos.copy()\n",
    "        self.part_best_fit_v = self.fit_val"
   ]
  },
  {
   "cell_type": "code",
   "execution_count": 26,
   "metadata": {},
   "outputs": [],
   "source": [
    "def pso(n_iter,n,fitness,nmax,nmin,dims):\n",
    "    swarm = [Particle(fitness=fitness,dims=dims,nmax=nmax,nmin=nmin) for _ in range(n)]\n",
    "\n",
    "    swarm_best_pos = swarm[0].part_best_pos\n",
    "    swarm_best_fit_val = swarm[0].part_best_fit_v\n",
    "\n",
    "    for iter in range(n_iter):\n",
    "        if iter%10 == 0:\n",
    "            print(\">iteration %d best_fit_val %.3f\"%(iter,swarm_best_fit_val))\n",
    "        for i in range(n):\n",
    "            for j in range(dims):\n",
    "                r1 = rand()\n",
    "                r2 = rand()\n",
    "                swarm[i].velo[j] = w*swarm[i].velo[j] + r1*c1*(swarm[i].part_best_pos[j] - swarm[i].pos[j]) + r2*c2*(swarm_best_pos[j] - swarm[i].pos[j])\n",
    "                if swarm[i].velo[j] < nmin:\n",
    "                    swarm[i].velo[j] = nmin\n",
    "                if swarm[i].velo[j] > nmax:\n",
    "                    swarm[i].velo[j] = nmax\n",
    "\n",
    "            for k in range(dims):\n",
    "               swarm[i].pos[k] += swarm[i].velo[k]\n",
    "\n",
    "            swarm[i].fit_val = fitness(swarm[i].pos)\n",
    "\n",
    "            if swarm[i].fit_val < swarm[i].part_best_fit_v:\n",
    "                swarm[i].part_best_fit_v = swarm[i].fit_val\n",
    "                swarm[i].part_best_pos = swarm[i].pos\n",
    "\n",
    "            if swarm[i].part_best_fit_v < swarm_best_fit_val:\n",
    "                swarm_best_fit_val = swarm[i].part_best_fit_v\n",
    "                swarm_best_pos = swarm[i].part_best_pos\n",
    "                                  "
   ]
  },
  {
   "cell_type": "code",
   "execution_count": 29,
   "metadata": {},
   "outputs": [
    {
     "name": "stdout",
     "output_type": "stream",
     "text": [
      ">iteration 0 best_fit_val 37.510\n",
      ">iteration 10 best_fit_val 0.361\n",
      ">iteration 20 best_fit_val 0.361\n",
      ">iteration 30 best_fit_val 0.361\n",
      ">iteration 40 best_fit_val 0.361\n",
      ">iteration 50 best_fit_val 0.361\n",
      ">iteration 60 best_fit_val 0.361\n",
      ">iteration 70 best_fit_val 0.361\n",
      ">iteration 80 best_fit_val 0.361\n",
      ">iteration 90 best_fit_val 0.361\n"
     ]
    }
   ],
   "source": [
    "pso(100,50,fitness,5,-5,3)"
   ]
  },
  {
   "cell_type": "code",
   "execution_count": null,
   "metadata": {},
   "outputs": [],
   "source": []
  }
 ],
 "metadata": {
  "kernelspec": {
   "display_name": "base",
   "language": "python",
   "name": "python3"
  },
  "language_info": {
   "codemirror_mode": {
    "name": "ipython",
    "version": 3
   },
   "file_extension": ".py",
   "mimetype": "text/x-python",
   "name": "python",
   "nbconvert_exporter": "python",
   "pygments_lexer": "ipython3",
   "version": "3.11.4"
  }
 },
 "nbformat": 4,
 "nbformat_minor": 2
}
