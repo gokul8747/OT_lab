{
 "cells": [
  {
   "cell_type": "code",
   "execution_count": 25,
   "metadata": {},
   "outputs": [],
   "source": [
    "from numpy import array, exp\n",
    "from numpy.random import randn\n",
    "from numpy.random import rand"
   ]
  },
  {
   "cell_type": "code",
   "execution_count": 26,
   "metadata": {},
   "outputs": [],
   "source": [
    "bounds = array([[-5.0,5.0]])\n",
    "n_iters = 100\n",
    "step = 0.1\n",
    "temp = 10"
   ]
  },
  {
   "cell_type": "code",
   "execution_count": 27,
   "metadata": {},
   "outputs": [],
   "source": [
    "def objective(x):\n",
    "    return x[0]**2"
   ]
  },
  {
   "cell_type": "code",
   "execution_count": 28,
   "metadata": {},
   "outputs": [],
   "source": [
    "def sa(bounds,n_iters,step,temp):\n",
    "    best = bounds[:,0] + rand(len(bounds))*(bounds[:,1] - bounds[:,0])\n",
    "    best_eval = objective(best)\n",
    "    \n",
    "    curr,curr_eval = best,best_eval\n",
    "    \n",
    "    for i in range(n_iters):\n",
    "        cand = curr + rand(len(bounds))*step\n",
    "        cand_eval = objective(cand)\n",
    "        if cand_eval < best_eval:\n",
    "            best,best_eval = cand,cand_eval\n",
    "            print(\">iteration %d best_value %s best_score %f\"%(i,best,best_eval))\n",
    "        \n",
    "        diff = cand_eval - curr_eval\n",
    "        t = temp/float(i+1)\n",
    "        metro = exp(-diff/t)\n",
    "        if diff < 0 or rand() < metro:\n",
    "            curr,curr_eval = cand,cand_eval\n",
    "    return [best,best_eval]\n"
   ]
  },
  {
   "cell_type": "code",
   "execution_count": 29,
   "metadata": {},
   "outputs": [
    {
     "name": "stdout",
     "output_type": "stream",
     "text": [
      ">iteration 0 best_value [-3.18785749] best_score 10.162435\n",
      ">iteration 1 best_value [-3.09805251] best_score 9.597929\n",
      ">iteration 2 best_value [-3.05972168] best_score 9.361897\n",
      ">iteration 3 best_value [-2.97900523] best_score 8.874472\n",
      ">iteration 4 best_value [-2.96252733] best_score 8.776568\n",
      ">iteration 5 best_value [-2.87824342] best_score 8.284285\n",
      ">iteration 6 best_value [-2.78849492] best_score 7.775704\n",
      ">iteration 7 best_value [-2.78360809] best_score 7.748474\n",
      ">iteration 8 best_value [-2.78152215] best_score 7.736865\n",
      ">iteration 9 best_value [-2.74516283] best_score 7.535919\n",
      ">iteration 10 best_value [-2.67277153] best_score 7.143708\n",
      ">iteration 11 best_value [-2.58507809] best_score 6.682629\n",
      ">iteration 12 best_value [-2.53102203] best_score 6.406073\n",
      ">iteration 13 best_value [-2.4777318] best_score 6.139155\n",
      ">iteration 14 best_value [-2.4668355] best_score 6.085277\n",
      ">iteration 15 best_value [-2.40935847] best_score 5.805008\n",
      ">iteration 16 best_value [-2.33433766] best_score 5.449132\n",
      ">iteration 17 best_value [-2.33361008] best_score 5.445736\n",
      ">iteration 18 best_value [-2.29713097] best_score 5.276811\n",
      ">iteration 19 best_value [-2.21465216] best_score 4.904684\n",
      ">iteration 20 best_value [-2.12842007] best_score 4.530172\n",
      ">iteration 21 best_value [-2.10682812] best_score 4.438725\n",
      ">iteration 22 best_value [-2.09742428] best_score 4.399189\n",
      ">iteration 23 best_value [-2.02002532] best_score 4.080502\n",
      ">iteration 24 best_value [-2.00017872] best_score 4.000715\n",
      ">iteration 25 best_value [-1.97278922] best_score 3.891897\n",
      ">iteration 26 best_value [-1.94414596] best_score 3.779704\n",
      ">iteration 27 best_value [-1.91905306] best_score 3.682765\n",
      ">iteration 28 best_value [-1.86907672] best_score 3.493448\n",
      ">iteration 29 best_value [-1.81165563] best_score 3.282096\n",
      ">iteration 30 best_value [-1.76064304] best_score 3.099864\n",
      ">iteration 31 best_value [-1.74547012] best_score 3.046666\n",
      ">iteration 32 best_value [-1.7311795] best_score 2.996982\n",
      ">iteration 33 best_value [-1.73094707] best_score 2.996178\n",
      ">iteration 34 best_value [-1.64926846] best_score 2.720086\n",
      ">iteration 35 best_value [-1.63180971] best_score 2.662803\n",
      ">iteration 36 best_value [-1.6250784] best_score 2.640880\n",
      ">iteration 37 best_value [-1.62315592] best_score 2.634635\n",
      ">iteration 38 best_value [-1.52863389] best_score 2.336722\n",
      ">iteration 39 best_value [-1.48251677] best_score 2.197856\n",
      ">iteration 40 best_value [-1.40784891] best_score 1.982039\n",
      ">iteration 41 best_value [-1.38131592] best_score 1.908034\n",
      ">iteration 42 best_value [-1.33554687] best_score 1.783685\n",
      ">iteration 43 best_value [-1.30556747] best_score 1.704506\n",
      ">iteration 44 best_value [-1.2810383] best_score 1.641059\n",
      ">iteration 45 best_value [-1.21430697] best_score 1.474541\n",
      ">iteration 46 best_value [-1.20759551] best_score 1.458287\n",
      ">iteration 47 best_value [-1.1315738] best_score 1.280459\n",
      ">iteration 48 best_value [-1.06792092] best_score 1.140455\n",
      ">iteration 49 best_value [-1.00459241] best_score 1.009206\n",
      ">iteration 50 best_value [-0.93827669] best_score 0.880363\n",
      ">iteration 51 best_value [-0.88982245] best_score 0.791784\n",
      ">iteration 52 best_value [-0.81822881] best_score 0.669498\n",
      ">iteration 53 best_value [-0.80379445] best_score 0.646086\n",
      ">iteration 54 best_value [-0.70391228] best_score 0.495492\n",
      ">iteration 55 best_value [-0.67053887] best_score 0.449622\n",
      ">iteration 56 best_value [-0.57504919] best_score 0.330682\n",
      ">iteration 57 best_value [-0.52693948] best_score 0.277665\n",
      ">iteration 58 best_value [-0.50711377] best_score 0.257164\n",
      ">iteration 59 best_value [-0.49153126] best_score 0.241603\n",
      ">iteration 60 best_value [-0.45040016] best_score 0.202860\n",
      ">iteration 61 best_value [-0.35206561] best_score 0.123950\n",
      ">iteration 62 best_value [-0.32374646] best_score 0.104812\n",
      ">iteration 63 best_value [-0.24791302] best_score 0.061461\n",
      ">iteration 64 best_value [-0.18357822] best_score 0.033701\n",
      ">iteration 65 best_value [-0.17185254] best_score 0.029533\n",
      ">iteration 66 best_value [-0.13010898] best_score 0.016928\n",
      ">iteration 67 best_value [-0.11797591] best_score 0.013918\n",
      ">iteration 68 best_value [-0.10259481] best_score 0.010526\n",
      ">iteration 69 best_value [-0.09690099] best_score 0.009390\n",
      ">iteration 70 best_value [0.00032001] best_score 0.000000\n"
     ]
    },
    {
     "data": {
      "text/plain": [
       "[array([0.00032001]), 1.0240594341320701e-07]"
      ]
     },
     "execution_count": 29,
     "metadata": {},
     "output_type": "execute_result"
    }
   ],
   "source": [
    "sa(bounds=bounds,n_iters=n_iters,temp=temp,step=step)"
   ]
  },
  {
   "cell_type": "code",
   "execution_count": null,
   "metadata": {},
   "outputs": [],
   "source": []
  }
 ],
 "metadata": {
  "kernelspec": {
   "display_name": "base",
   "language": "python",
   "name": "python3"
  },
  "language_info": {
   "codemirror_mode": {
    "name": "ipython",
    "version": 3
   },
   "file_extension": ".py",
   "mimetype": "text/x-python",
   "name": "python",
   "nbconvert_exporter": "python",
   "pygments_lexer": "ipython3",
   "version": "3.11.4"
  }
 },
 "nbformat": 4,
 "nbformat_minor": 2
}
