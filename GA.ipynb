{
 "cells": [
  {
   "cell_type": "code",
   "execution_count": 1,
   "metadata": {},
   "outputs": [],
   "source": [
    "from numpy.random import randint\n",
    "from numpy.random import rand"
   ]
  },
  {
   "cell_type": "code",
   "execution_count": 2,
   "metadata": {},
   "outputs": [],
   "source": [
    "n_pop = 100\n",
    "n_bits = 8\n",
    "bounds = [[-5.0,5.0],[-5.0,5.0]]\n",
    "r_cross = 0.9\n",
    "r_mut = 1.0/(float(n_bits)*len(bounds))"
   ]
  },
  {
   "cell_type": "code",
   "execution_count": 3,
   "metadata": {},
   "outputs": [],
   "source": [
    "def objective(x):\n",
    "    return x[0]**2.0 + x[1]**2.0"
   ]
  },
  {
   "cell_type": "code",
   "execution_count": 4,
   "metadata": {},
   "outputs": [],
   "source": [
    "def decode(pop,n_bits,bounds):\n",
    "    decoded = []\n",
    "    max_val = 2**(n_bits)\n",
    "    for i in range(len(bounds)):\n",
    "        start,end = i*n_bits,i*n_bits+n_bits\n",
    "        seq = pop[start:end]\n",
    "        char = \"\".join(str(c) for c in seq)\n",
    "        value = int(char,2)\n",
    "        integer = bounds[i][0]+(value/max_val)*(bounds[i][1] - bounds[i][0])\n",
    "        decoded.append(integer)\n",
    "    return decoded"
   ]
  },
  {
   "cell_type": "code",
   "execution_count": 5,
   "metadata": {},
   "outputs": [],
   "source": [
    "def selection(pop,scores,k=3):\n",
    "    select_x = randint(len(pop))\n",
    "    for i in randint(0,len(pop),k-1):\n",
    "        if scores[i] < scores[select_x]:\n",
    "            select_x = i\n",
    "    \n",
    "    return pop[select_x]\n",
    "\n"
   ]
  },
  {
   "cell_type": "code",
   "execution_count": 6,
   "metadata": {},
   "outputs": [],
   "source": [
    "def crossover(p1,p2,r_cross):\n",
    "    c1,c2 = p1.copy(),p2.copy()\n",
    "    if rand() < r_cross:\n",
    "        p = randint(1,len(p1)-2)\n",
    "        c1 = p1[:p] + p2[p:]\n",
    "        c2 = p2[:p] + p1[p:]\n",
    "    return [c1,c2]"
   ]
  },
  {
   "cell_type": "code",
   "execution_count": 7,
   "metadata": {},
   "outputs": [],
   "source": [
    "def mutation(bit_string,r_mut):\n",
    "    for i in range(len(bit_string)):\n",
    "        if rand() < r_mut:\n",
    "            bit_string[i] = 1 - bit_string[i]\n",
    "    return bit_string"
   ]
  },
  {
   "cell_type": "code",
   "execution_count": 8,
   "metadata": {},
   "outputs": [],
   "source": [
    "def ga(n_iter,n_pop,n_bits,bounds,r_cross,r_mut):\n",
    "    pop = [randint(0,2,n_bits*2).tolist() for _ in range(n_pop)]\n",
    "    best,best_val = objective(decode(pop[0],n_bits=n_bits,bounds=bounds)),pop[0]\n",
    "    for gen in range(n_iter):\n",
    "        scores = [objective(decode(pop=p,n_bits=n_bits,bounds=bounds)) for p in pop]\n",
    "        for i in range(n_pop):\n",
    "            if scores[i] < best:\n",
    "                best = scores[i]\n",
    "                best_val = pop[i]\n",
    "                print(\"> iteration %d, new best f(%s) = %f\"%(gen,decode(best_val,n_bits=n_bits,bounds=bounds),scores[i]))\n",
    "        \n",
    "        selected = [selection(pop,scores) for _ in range(n_pop)]\n",
    "        children = list()\n",
    "        for i in range(0,n_pop,2):\n",
    "            p1,p2 = selected[i],selected[i+1]\n",
    "            for c in crossover(p1=p1,p2=p2,r_cross=r_cross):\n",
    "                m = mutation(c,r_mut=r_mut)\n",
    "                children.append(m)\n",
    "        pop = children\n",
    "\n",
    "    return decode(best_val,n_bits=n_bits,bounds=bounds)\n",
    "\n",
    "        "
   ]
  },
  {
   "cell_type": "code",
   "execution_count": 9,
   "metadata": {},
   "outputs": [
    {
     "name": "stdout",
     "output_type": "stream",
     "text": [
      "> iteration 0, new best f([-0.3515625, -2.03125]) = 4.249573\n",
      "> iteration 0, new best f([0.234375, -1.3671875]) = 1.924133\n",
      "> iteration 0, new best f([1.1328125, -0.6640625]) = 1.724243\n",
      "> iteration 0, new best f([0.859375, 0.9765625]) = 1.692200\n",
      "> iteration 0, new best f([-0.1171875, 1.09375]) = 1.210022\n",
      "> iteration 1, new best f([0.859375, 0.15625]) = 0.762939\n",
      "> iteration 1, new best f([-0.2734375, -0.3515625]) = 0.198364\n",
      "> iteration 2, new best f([-0.15625, -0.2734375]) = 0.099182\n",
      "> iteration 5, new best f([0.0390625, 0.234375]) = 0.056458\n",
      "> iteration 5, new best f([-0.1171875, 0.078125]) = 0.019836\n",
      "> iteration 5, new best f([-0.1171875, 0.0390625]) = 0.015259\n",
      "> iteration 6, new best f([0.0390625, 0.0390625]) = 0.003052\n",
      "> iteration 8, new best f([0.0, 0.0]) = 0.000000\n"
     ]
    },
    {
     "data": {
      "text/plain": [
       "[0.0, 0.0]"
      ]
     },
     "execution_count": 9,
     "metadata": {},
     "output_type": "execute_result"
    }
   ],
   "source": [
    "ga(n_iter=100,n_bits=n_bits,n_pop=n_pop,bounds=bounds,r_cross=r_cross,r_mut=r_mut)"
   ]
  },
  {
   "cell_type": "code",
   "execution_count": null,
   "metadata": {},
   "outputs": [],
   "source": []
  },
  {
   "cell_type": "code",
   "execution_count": null,
   "metadata": {},
   "outputs": [],
   "source": []
  }
 ],
 "metadata": {
  "kernelspec": {
   "display_name": "base",
   "language": "python",
   "name": "python3"
  },
  "language_info": {
   "codemirror_mode": {
    "name": "ipython",
    "version": 3
   },
   "file_extension": ".py",
   "mimetype": "text/x-python",
   "name": "python",
   "nbconvert_exporter": "python",
   "pygments_lexer": "ipython3",
   "version": "3.11.4"
  }
 },
 "nbformat": 4,
 "nbformat_minor": 2
}
